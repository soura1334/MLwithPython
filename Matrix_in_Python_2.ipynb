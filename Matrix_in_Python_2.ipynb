{
  "nbformat": 4,
  "nbformat_minor": 0,
  "metadata": {
    "colab": {
      "provenance": [],
      "authorship_tag": "ABX9TyN8WkxBGDmP7Qi/Wz+/Cj8z",
      "include_colab_link": true
    },
    "kernelspec": {
      "name": "python3",
      "display_name": "Python 3"
    },
    "language_info": {
      "name": "python"
    }
  },
  "cells": [
    {
      "cell_type": "markdown",
      "metadata": {
        "id": "view-in-github",
        "colab_type": "text"
      },
      "source": [
        "<a href=\"https://colab.research.google.com/github/soura1334/MLwithPython/blob/main/Matrix_in_Python_2.ipynb\" target=\"_parent\"><img src=\"https://colab.research.google.com/assets/colab-badge.svg\" alt=\"Open In Colab\"/></a>"
      ]
    },
    {
      "cell_type": "markdown",
      "source": [
        "Importing Numpy"
      ],
      "metadata": {
        "id": "yuhR6ZmenS0_"
      }
    },
    {
      "cell_type": "code",
      "execution_count": 1,
      "metadata": {
        "id": "Q9tl_C5snGk0"
      },
      "outputs": [],
      "source": [
        "import numpy as np"
      ]
    },
    {
      "cell_type": "markdown",
      "source": [
        "# Matrix Addition"
      ],
      "metadata": {
        "id": "7AhDhMd9nYiH"
      }
    },
    {
      "cell_type": "markdown",
      "source": [
        "Two matrices can be added only if they have the same shape"
      ],
      "metadata": {
        "id": "BR2o8S19nk8m"
      }
    },
    {
      "cell_type": "markdown",
      "source": [
        "Creating the two matrices"
      ],
      "metadata": {
        "id": "Uc0UrD2BnrLn"
      }
    },
    {
      "cell_type": "code",
      "source": [
        "A = np.array([[2,3],[4,5]])\n",
        "B = np.array([[6,7],[8,9]])"
      ],
      "metadata": {
        "id": "YX_LEM4mnWgo"
      },
      "execution_count": 2,
      "outputs": []
    },
    {
      "cell_type": "code",
      "source": [
        "print(A)"
      ],
      "metadata": {
        "colab": {
          "base_uri": "https://localhost:8080/"
        },
        "id": "W4NEIO4EozX4",
        "outputId": "8d7948bc-f40b-4cea-c3aa-cb34bada3e9a"
      },
      "execution_count": 3,
      "outputs": [
        {
          "output_type": "stream",
          "name": "stdout",
          "text": [
            "[[2 3]\n",
            " [4 5]]\n"
          ]
        }
      ]
    },
    {
      "cell_type": "code",
      "source": [
        "print(B)"
      ],
      "metadata": {
        "colab": {
          "base_uri": "https://localhost:8080/"
        },
        "id": "zEpkhpRbo0Lt",
        "outputId": "130d779a-0b06-4a1f-c89b-b0e97ab98376"
      },
      "execution_count": 4,
      "outputs": [
        {
          "output_type": "stream",
          "name": "stdout",
          "text": [
            "[[6 7]\n",
            " [8 9]]\n"
          ]
        }
      ]
    },
    {
      "cell_type": "code",
      "source": [
        "A.shape"
      ],
      "metadata": {
        "colab": {
          "base_uri": "https://localhost:8080/"
        },
        "id": "X9gEm0w8o06V",
        "outputId": "5c3494ba-4359-4442-fba1-576f708a0ec3"
      },
      "execution_count": 5,
      "outputs": [
        {
          "output_type": "execute_result",
          "data": {
            "text/plain": [
              "(2, 2)"
            ]
          },
          "metadata": {},
          "execution_count": 5
        }
      ]
    },
    {
      "cell_type": "code",
      "source": [
        "B.shape"
      ],
      "metadata": {
        "colab": {
          "base_uri": "https://localhost:8080/"
        },
        "id": "Of0zXECZo2iL",
        "outputId": "e84afdfc-4eef-4629-8635-cee48aee7c27"
      },
      "execution_count": 6,
      "outputs": [
        {
          "output_type": "execute_result",
          "data": {
            "text/plain": [
              "(2, 2)"
            ]
          },
          "metadata": {},
          "execution_count": 6
        }
      ]
    },
    {
      "cell_type": "markdown",
      "source": [
        "Adding 2 matrices"
      ],
      "metadata": {
        "id": "wLK5TTNao_WV"
      }
    },
    {
      "cell_type": "code",
      "source": [
        "sum = A + B"
      ],
      "metadata": {
        "id": "cnd5Ky9vo4i0"
      },
      "execution_count": 7,
      "outputs": []
    },
    {
      "cell_type": "code",
      "source": [
        "print(sum)"
      ],
      "metadata": {
        "colab": {
          "base_uri": "https://localhost:8080/"
        },
        "id": "JyNMRCbmpCec",
        "outputId": "101b7dab-fed6-446d-838e-da14cdeadacf"
      },
      "execution_count": 8,
      "outputs": [
        {
          "output_type": "stream",
          "name": "stdout",
          "text": [
            "[[ 8 10]\n",
            " [12 14]]\n"
          ]
        }
      ]
    },
    {
      "cell_type": "markdown",
      "source": [
        "Creating 2 matrices with random values"
      ],
      "metadata": {
        "id": "xJEvbe5SpIO9"
      }
    },
    {
      "cell_type": "code",
      "source": [
        "matrix_1 = np.random.randint(10, size=(3,3))\n",
        "matrix_2 = np.random.randint(20, size=(3,3))"
      ],
      "metadata": {
        "id": "ePSVD7zGpDcn"
      },
      "execution_count": 9,
      "outputs": []
    },
    {
      "cell_type": "code",
      "source": [
        "print(matrix_1)"
      ],
      "metadata": {
        "colab": {
          "base_uri": "https://localhost:8080/"
        },
        "id": "q7__CzOrpWfj",
        "outputId": "9c344d31-b9e7-4125-c19c-2529c03e695a"
      },
      "execution_count": 10,
      "outputs": [
        {
          "output_type": "stream",
          "name": "stdout",
          "text": [
            "[[3 7 4]\n",
            " [9 8 8]\n",
            " [2 5 9]]\n"
          ]
        }
      ]
    },
    {
      "cell_type": "code",
      "source": [
        "print(matrix_2)"
      ],
      "metadata": {
        "colab": {
          "base_uri": "https://localhost:8080/"
        },
        "id": "EshKpQtdpX3y",
        "outputId": "7f08aeae-0ba1-4778-9549-ed781254cf08"
      },
      "execution_count": 11,
      "outputs": [
        {
          "output_type": "stream",
          "name": "stdout",
          "text": [
            "[[ 1 10  8]\n",
            " [12  3 16]\n",
            " [12 10 16]]\n"
          ]
        }
      ]
    },
    {
      "cell_type": "code",
      "source": [
        "sum = np.add(matrix_1, matrix_2)"
      ],
      "metadata": {
        "id": "efQnvHwUpZCJ"
      },
      "execution_count": 12,
      "outputs": []
    },
    {
      "cell_type": "code",
      "source": [
        "print(sum)"
      ],
      "metadata": {
        "colab": {
          "base_uri": "https://localhost:8080/"
        },
        "id": "Pnu_SvropeH-",
        "outputId": "c983c2ff-7cc0-494e-ea52-255640b312f4"
      },
      "execution_count": 13,
      "outputs": [
        {
          "output_type": "stream",
          "name": "stdout",
          "text": [
            "[[ 4 17 12]\n",
            " [21 11 24]\n",
            " [14 15 25]]\n"
          ]
        }
      ]
    },
    {
      "cell_type": "markdown",
      "source": [
        "# Matrix Subtraction"
      ],
      "metadata": {
        "id": "AmI7X3SyqZqu"
      }
    },
    {
      "cell_type": "code",
      "source": [
        "A = np.array([[2,3],[4,5]])\n",
        "B = np.array([[6,7],[8,9]])"
      ],
      "metadata": {
        "id": "cEQgllcBpfAh"
      },
      "execution_count": 14,
      "outputs": []
    },
    {
      "cell_type": "code",
      "source": [
        "print(A)"
      ],
      "metadata": {
        "colab": {
          "base_uri": "https://localhost:8080/"
        },
        "id": "pONNm9MCqise",
        "outputId": "9163d9fe-d9e3-4e38-b3b4-9c5ecdb3efce"
      },
      "execution_count": 17,
      "outputs": [
        {
          "output_type": "stream",
          "name": "stdout",
          "text": [
            "[[2 3]\n",
            " [4 5]]\n"
          ]
        }
      ]
    },
    {
      "cell_type": "code",
      "source": [
        "print(B)"
      ],
      "metadata": {
        "colab": {
          "base_uri": "https://localhost:8080/"
        },
        "id": "EHN5FSU9qj39",
        "outputId": "27d21461-5bde-40f8-9e92-0f32bc85233d"
      },
      "execution_count": 18,
      "outputs": [
        {
          "output_type": "stream",
          "name": "stdout",
          "text": [
            "[[6 7]\n",
            " [8 9]]\n"
          ]
        }
      ]
    },
    {
      "cell_type": "code",
      "source": [
        "diff = A - B"
      ],
      "metadata": {
        "id": "oL1E1Q9lqeca"
      },
      "execution_count": 15,
      "outputs": []
    },
    {
      "cell_type": "code",
      "source": [
        "print(diff)"
      ],
      "metadata": {
        "colab": {
          "base_uri": "https://localhost:8080/"
        },
        "id": "YFoIqq4ZqfvV",
        "outputId": "0a58ca07-d786-43b6-ad65-87b484d64112"
      },
      "execution_count": 16,
      "outputs": [
        {
          "output_type": "stream",
          "name": "stdout",
          "text": [
            "[[-4 -4]\n",
            " [-4 -4]]\n"
          ]
        }
      ]
    },
    {
      "cell_type": "markdown",
      "source": [
        "Creating 2 matrices with random values"
      ],
      "metadata": {
        "id": "BBVskbEEqq5M"
      }
    },
    {
      "cell_type": "code",
      "source": [
        "matrix_1 = np.random.randint(10, size=(3,3))\n",
        "matrix_2 = np.random.randint(20, size=(3,3))"
      ],
      "metadata": {
        "id": "WFh2CEipqgil"
      },
      "execution_count": 19,
      "outputs": []
    },
    {
      "cell_type": "code",
      "source": [
        "print(matrix_1)"
      ],
      "metadata": {
        "colab": {
          "base_uri": "https://localhost:8080/"
        },
        "id": "gwiDFTySqvyD",
        "outputId": "2b1a9a78-402e-4aa1-d37b-53d545b8b57b"
      },
      "execution_count": 20,
      "outputs": [
        {
          "output_type": "stream",
          "name": "stdout",
          "text": [
            "[[2 2 8]\n",
            " [2 5 4]\n",
            " [8 5 8]]\n"
          ]
        }
      ]
    },
    {
      "cell_type": "code",
      "source": [
        "print(matrix_2)"
      ],
      "metadata": {
        "colab": {
          "base_uri": "https://localhost:8080/"
        },
        "id": "QGxGVM9Pqwxy",
        "outputId": "9ee2ddbb-c222-433e-d754-9324c72b116f"
      },
      "execution_count": 21,
      "outputs": [
        {
          "output_type": "stream",
          "name": "stdout",
          "text": [
            "[[13  4 14]\n",
            " [ 5 14  0]\n",
            " [11 14 15]]\n"
          ]
        }
      ]
    },
    {
      "cell_type": "code",
      "source": [
        "diff = np.subtract(matrix_1, matrix_2)"
      ],
      "metadata": {
        "id": "NLSIkScRqyFE"
      },
      "execution_count": 22,
      "outputs": []
    },
    {
      "cell_type": "code",
      "source": [
        "print(diff)"
      ],
      "metadata": {
        "colab": {
          "base_uri": "https://localhost:8080/"
        },
        "id": "eUGoGXIPq1oZ",
        "outputId": "028480ef-0457-4480-a57c-122f46c381f3"
      },
      "execution_count": 23,
      "outputs": [
        {
          "output_type": "stream",
          "name": "stdout",
          "text": [
            "[[-11  -2  -6]\n",
            " [ -3  -9   4]\n",
            " [ -3  -9  -7]]\n"
          ]
        }
      ]
    },
    {
      "cell_type": "markdown",
      "source": [
        "# Multiplying a Matrix by a Scalar"
      ],
      "metadata": {
        "id": "lTpV0c3bq9Z8"
      }
    },
    {
      "cell_type": "code",
      "source": [
        "x = 5\n",
        "y = np.random.randint(10, size=(4,4))\n",
        "print(y)"
      ],
      "metadata": {
        "colab": {
          "base_uri": "https://localhost:8080/"
        },
        "id": "ksMsAE9Lq3Hw",
        "outputId": "76bee969-4b43-4679-9ddd-61daded24a7c"
      },
      "execution_count": 24,
      "outputs": [
        {
          "output_type": "stream",
          "name": "stdout",
          "text": [
            "[[3 2 9 9]\n",
            " [5 1 9 4]\n",
            " [4 2 9 8]\n",
            " [3 2 9 8]]\n"
          ]
        }
      ]
    },
    {
      "cell_type": "code",
      "source": [
        "prod = np.multiply(x,y)\n",
        "print(prod)"
      ],
      "metadata": {
        "colab": {
          "base_uri": "https://localhost:8080/"
        },
        "id": "a2q4zh0grNh9",
        "outputId": "1aa2be25-4d5d-4e7e-ca1a-0f151d8171ae"
      },
      "execution_count": 25,
      "outputs": [
        {
          "output_type": "stream",
          "name": "stdout",
          "text": [
            "[[15 10 45 45]\n",
            " [25  5 45 20]\n",
            " [20 10 45 40]\n",
            " [15 10 45 40]]\n"
          ]
        }
      ]
    },
    {
      "cell_type": "markdown",
      "source": [
        "Multiplying 2 Matrices"
      ],
      "metadata": {
        "id": "gzJDUKJ2rWDc"
      }
    },
    {
      "cell_type": "code",
      "source": [
        "matrix_3 = np.random.randint(5, size=(3,3))\n",
        "matrix_4 = np.random.randint(5, size=(3,4))"
      ],
      "metadata": {
        "id": "UmGc_47OrSfm"
      },
      "execution_count": 26,
      "outputs": []
    },
    {
      "cell_type": "code",
      "source": [
        "print(matrix_3)"
      ],
      "metadata": {
        "colab": {
          "base_uri": "https://localhost:8080/"
        },
        "id": "bv1Tzz4VrhLT",
        "outputId": "319af593-17d3-4aac-bb3d-8da626b7a8d6"
      },
      "execution_count": 27,
      "outputs": [
        {
          "output_type": "stream",
          "name": "stdout",
          "text": [
            "[[0 0 2]\n",
            " [0 3 3]\n",
            " [1 4 1]]\n"
          ]
        }
      ]
    },
    {
      "cell_type": "code",
      "source": [
        "print(matrix_4)"
      ],
      "metadata": {
        "colab": {
          "base_uri": "https://localhost:8080/"
        },
        "id": "ggB8h5z7riI9",
        "outputId": "ee4988a2-d6e6-44a9-da0c-96dae460dfff"
      },
      "execution_count": 28,
      "outputs": [
        {
          "output_type": "stream",
          "name": "stdout",
          "text": [
            "[[2 3 0 4]\n",
            " [4 0 3 1]\n",
            " [0 2 0 4]]\n"
          ]
        }
      ]
    },
    {
      "cell_type": "code",
      "source": [
        "prod = np.dot(matrix_3, matrix_4)\n",
        "print(prod)"
      ],
      "metadata": {
        "colab": {
          "base_uri": "https://localhost:8080/"
        },
        "id": "WblfkeyTrje6",
        "outputId": "71fddfbb-cd2e-4f14-b06b-85af42beaae2"
      },
      "execution_count": 29,
      "outputs": [
        {
          "output_type": "stream",
          "name": "stdout",
          "text": [
            "[[ 0  4  0  8]\n",
            " [12  6  9 15]\n",
            " [18  5 12 12]]\n"
          ]
        }
      ]
    },
    {
      "cell_type": "code",
      "source": [
        "prod.shape"
      ],
      "metadata": {
        "colab": {
          "base_uri": "https://localhost:8080/"
        },
        "id": "FAB7A46VrpcL",
        "outputId": "75fc6f34-3223-4587-9509-b5e8c8c15d9b"
      },
      "execution_count": 30,
      "outputs": [
        {
          "output_type": "execute_result",
          "data": {
            "text/plain": [
              "(3, 4)"
            ]
          },
          "metadata": {},
          "execution_count": 30
        }
      ]
    },
    {
      "cell_type": "markdown",
      "source": [
        "# Element wise Matrix Multiplication"
      ],
      "metadata": {
        "id": "DaMFuwTer8yD"
      }
    },
    {
      "cell_type": "code",
      "source": [
        "matrix_3 = np.random.randint(5, size=(3,3))\n",
        "matrix_4 = np.random.randint(5, size=(3,3))"
      ],
      "metadata": {
        "id": "zkK71eFmrsPE"
      },
      "execution_count": 37,
      "outputs": []
    },
    {
      "cell_type": "code",
      "source": [
        "print(matrix_3)"
      ],
      "metadata": {
        "colab": {
          "base_uri": "https://localhost:8080/"
        },
        "id": "eai588SlsBQ4",
        "outputId": "d3ae6e1d-2785-409d-b1bd-ac8425c0476e"
      },
      "execution_count": 38,
      "outputs": [
        {
          "output_type": "stream",
          "name": "stdout",
          "text": [
            "[[1 2 3]\n",
            " [1 4 4]\n",
            " [3 1 3]]\n"
          ]
        }
      ]
    },
    {
      "cell_type": "code",
      "source": [
        "print(matrix_4)"
      ],
      "metadata": {
        "colab": {
          "base_uri": "https://localhost:8080/"
        },
        "id": "J8Z1fPzPsChV",
        "outputId": "a4d7d00b-7acf-4010-db27-b676c2d33c28"
      },
      "execution_count": 39,
      "outputs": [
        {
          "output_type": "stream",
          "name": "stdout",
          "text": [
            "[[2 3 3]\n",
            " [3 3 1]\n",
            " [3 0 0]]\n"
          ]
        }
      ]
    },
    {
      "cell_type": "code",
      "source": [
        "prod = np.multiply(matrix_3, matrix_4)\n",
        "print(prod)"
      ],
      "metadata": {
        "colab": {
          "base_uri": "https://localhost:8080/"
        },
        "id": "rsO1S2zMsDiA",
        "outputId": "668e0a31-6c25-4fa5-e545-35b599787504"
      },
      "execution_count": 40,
      "outputs": [
        {
          "output_type": "stream",
          "name": "stdout",
          "text": [
            "[[ 2  6  9]\n",
            " [ 3 12  4]\n",
            " [ 9  0  0]]\n"
          ]
        }
      ]
    }
  ]
}
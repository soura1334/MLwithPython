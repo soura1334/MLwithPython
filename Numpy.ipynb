{
  "nbformat": 4,
  "nbformat_minor": 0,
  "metadata": {
    "colab": {
      "provenance": [],
      "authorship_tag": "ABX9TyMgiCkusUqAmnxGaDvwYcE/",
      "include_colab_link": true
    },
    "kernelspec": {
      "name": "python3",
      "display_name": "Python 3"
    },
    "language_info": {
      "name": "python"
    }
  },
  "cells": [
    {
      "cell_type": "markdown",
      "metadata": {
        "id": "view-in-github",
        "colab_type": "text"
      },
      "source": [
        "<a href=\"https://colab.research.google.com/github/soura1334/PyMLLibs/blob/main/Numpy.ipynb\" target=\"_parent\"><img src=\"https://colab.research.google.com/assets/colab-badge.svg\" alt=\"Open In Colab\"/></a>"
      ]
    },
    {
      "cell_type": "markdown",
      "source": [
        "# Numpy"
      ],
      "metadata": {
        "id": "Gust6OUHqAiB"
      }
    },
    {
      "cell_type": "code",
      "execution_count": null,
      "metadata": {
        "id": "eT3A3bVvp53g"
      },
      "outputs": [],
      "source": [
        "import numpy as np"
      ]
    },
    {
      "cell_type": "markdown",
      "source": [
        "# List vs Numpy - Time taken"
      ],
      "metadata": {
        "id": "m3JE-x_Tq2Xg"
      }
    },
    {
      "cell_type": "code",
      "source": [
        "from time import process_time"
      ],
      "metadata": {
        "id": "dZMXbHuBqt2o"
      },
      "execution_count": null,
      "outputs": []
    },
    {
      "cell_type": "markdown",
      "source": [
        "Time taken by a List"
      ],
      "metadata": {
        "id": "cJMN6Tybq_9X"
      }
    },
    {
      "cell_type": "code",
      "source": [
        "python_list = [i for i in range(10000)]\n",
        "\n",
        "start_time = process_time()\n",
        "python_list = [i+5 for i in python_list]\n",
        "end_time = process_time()\n",
        "\n",
        "print(end_time - start_time)"
      ],
      "metadata": {
        "colab": {
          "base_uri": "https://localhost:8080/"
        },
        "id": "sQAkkNRsq_dm",
        "outputId": "bea6790f-af10-486f-8f5a-77833e1b3f4e"
      },
      "execution_count": null,
      "outputs": [
        {
          "output_type": "stream",
          "name": "stdout",
          "text": [
            "0.0005850569999998889\n"
          ]
        }
      ]
    },
    {
      "cell_type": "markdown",
      "source": [
        "Time taken by a NP array"
      ],
      "metadata": {
        "id": "itvG-OEsrtvA"
      }
    },
    {
      "cell_type": "code",
      "source": [
        "np_array = np.array([i for i in range(10000)])\n",
        "\n",
        "start_time = process_time()\n",
        "np_array += 5\n",
        "end_time = process_time()\n",
        "\n",
        "print(end_time - start_time)"
      ],
      "metadata": {
        "colab": {
          "base_uri": "https://localhost:8080/"
        },
        "id": "ha6gOllRrw_I",
        "outputId": "e8d21a89-b69d-448f-9a12-8a51947af713"
      },
      "execution_count": null,
      "outputs": [
        {
          "output_type": "stream",
          "name": "stdout",
          "text": [
            "0.0001383790000000218\n"
          ]
        }
      ]
    },
    {
      "cell_type": "markdown",
      "source": [
        "# Numpy Arrays"
      ],
      "metadata": {
        "id": "SjJuRe3ss5vQ"
      }
    },
    {
      "cell_type": "code",
      "source": [
        "#list\n",
        "list1 = [1,2,3,4,5]\n",
        "print(list1)\n",
        "type(list1)"
      ],
      "metadata": {
        "colab": {
          "base_uri": "https://localhost:8080/"
        },
        "id": "0_6aA8V5s8V_",
        "outputId": "80862a47-a0ac-4e54-b841-a14d5ec6fb03"
      },
      "execution_count": null,
      "outputs": [
        {
          "output_type": "stream",
          "name": "stdout",
          "text": [
            "[1, 2, 3, 4, 5]\n"
          ]
        },
        {
          "output_type": "execute_result",
          "data": {
            "text/plain": [
              "list"
            ]
          },
          "metadata": {},
          "execution_count": 19
        }
      ]
    },
    {
      "cell_type": "code",
      "source": [
        "np_array = np.array([1,2,3,4,5])\n",
        "print(np_array)\n",
        "type(np_array)"
      ],
      "metadata": {
        "colab": {
          "base_uri": "https://localhost:8080/"
        },
        "id": "mFz2qZGltEpY",
        "outputId": "6f2ed04f-193b-40c9-a0d4-7564a4c983cf"
      },
      "execution_count": null,
      "outputs": [
        {
          "output_type": "stream",
          "name": "stdout",
          "text": [
            "[1 2 3 4 5]\n"
          ]
        },
        {
          "output_type": "execute_result",
          "data": {
            "text/plain": [
              "numpy.ndarray"
            ]
          },
          "metadata": {},
          "execution_count": 20
        }
      ]
    },
    {
      "cell_type": "markdown",
      "source": [
        "Creating an 1 dim array"
      ],
      "metadata": {
        "id": "TT_wwgFAtbTn"
      }
    },
    {
      "cell_type": "code",
      "source": [
        "a = np.array([1,2,3,4])\n",
        "print(a)"
      ],
      "metadata": {
        "colab": {
          "base_uri": "https://localhost:8080/"
        },
        "id": "gD6Rl9F3tZxy",
        "outputId": "0e0c3e69-b570-4166-ebce-32e2842557b6"
      },
      "execution_count": null,
      "outputs": [
        {
          "output_type": "stream",
          "name": "stdout",
          "text": [
            "[1 2 3 4]\n"
          ]
        }
      ]
    },
    {
      "cell_type": "code",
      "source": [
        "a.shape"
      ],
      "metadata": {
        "colab": {
          "base_uri": "https://localhost:8080/"
        },
        "id": "W8Mv26pXtkkW",
        "outputId": "a7565e75-1e5c-45eb-c590-3b553cb36d1e"
      },
      "execution_count": null,
      "outputs": [
        {
          "output_type": "execute_result",
          "data": {
            "text/plain": [
              "(4,)"
            ]
          },
          "metadata": {},
          "execution_count": 22
        }
      ]
    },
    {
      "cell_type": "markdown",
      "source": [
        "Creating a 2 dim array"
      ],
      "metadata": {
        "id": "TQ4BbVxotpX3"
      }
    },
    {
      "cell_type": "code",
      "source": [
        "b = np.array([(1,2,3,4),(5,6,7,8)])\n",
        "print(b)"
      ],
      "metadata": {
        "colab": {
          "base_uri": "https://localhost:8080/"
        },
        "id": "b8-_0-NItraA",
        "outputId": "33505b42-b119-4abe-b83c-dc259339e8d3"
      },
      "execution_count": null,
      "outputs": [
        {
          "output_type": "stream",
          "name": "stdout",
          "text": [
            "[[1 2 3 4]\n",
            " [5 6 7 8]]\n"
          ]
        }
      ]
    },
    {
      "cell_type": "code",
      "source": [
        "b.shape"
      ],
      "metadata": {
        "colab": {
          "base_uri": "https://localhost:8080/"
        },
        "id": "UUrG41z5t4d_",
        "outputId": "7bb8bb3b-e2f7-4967-8782-f7361c7f04b7"
      },
      "execution_count": null,
      "outputs": [
        {
          "output_type": "execute_result",
          "data": {
            "text/plain": [
              "(2, 4)"
            ]
          },
          "metadata": {},
          "execution_count": 24
        }
      ]
    },
    {
      "cell_type": "code",
      "source": [
        "c = np.array([(1,2,3,4),(5,6,7,8)], dtype=float)\n",
        "print(c)"
      ],
      "metadata": {
        "colab": {
          "base_uri": "https://localhost:8080/"
        },
        "id": "TVMEmgzOuGvm",
        "outputId": "e9fe4bda-9d85-4a67-bee1-794160c9eaa4"
      },
      "execution_count": null,
      "outputs": [
        {
          "output_type": "stream",
          "name": "stdout",
          "text": [
            "[[1. 2. 3. 4.]\n",
            " [5. 6. 7. 8.]]\n"
          ]
        }
      ]
    },
    {
      "cell_type": "markdown",
      "source": [
        "# Initial Placeholders in Numpy arrays"
      ],
      "metadata": {
        "id": "Exds64GSuU-2"
      }
    },
    {
      "cell_type": "markdown",
      "source": [
        "Create a numpy array of zeroes"
      ],
      "metadata": {
        "id": "fiU2-7LyugnH"
      }
    },
    {
      "cell_type": "code",
      "source": [
        "x = np.zeros((4,5))\n",
        "print(x)"
      ],
      "metadata": {
        "colab": {
          "base_uri": "https://localhost:8080/"
        },
        "id": "G5gCVJqduY9H",
        "outputId": "eaed99a4-11d7-4a30-a13a-6c1e639992d2"
      },
      "execution_count": null,
      "outputs": [
        {
          "output_type": "stream",
          "name": "stdout",
          "text": [
            "[[0. 0. 0. 0. 0.]\n",
            " [0. 0. 0. 0. 0.]\n",
            " [0. 0. 0. 0. 0.]\n",
            " [0. 0. 0. 0. 0.]]\n"
          ]
        }
      ]
    },
    {
      "cell_type": "markdown",
      "source": [
        "Create a np array of 1s"
      ],
      "metadata": {
        "id": "gsLHTN7MuxJv"
      }
    },
    {
      "cell_type": "code",
      "source": [
        "y = np.ones((3,3))\n",
        "print(y)"
      ],
      "metadata": {
        "colab": {
          "base_uri": "https://localhost:8080/"
        },
        "id": "LVWE2zUKuzyY",
        "outputId": "30941798-59e3-467a-d703-3dcb0d879b7c"
      },
      "execution_count": null,
      "outputs": [
        {
          "output_type": "stream",
          "name": "stdout",
          "text": [
            "[[1. 1. 1.]\n",
            " [1. 1. 1.]\n",
            " [1. 1. 1.]]\n"
          ]
        }
      ]
    },
    {
      "cell_type": "markdown",
      "source": [
        "Create an array of a particular value"
      ],
      "metadata": {
        "id": "vew59u8Iu9Cw"
      }
    },
    {
      "cell_type": "code",
      "source": [
        "z = np.full((5,4), 5)\n",
        "print(z)"
      ],
      "metadata": {
        "colab": {
          "base_uri": "https://localhost:8080/"
        },
        "id": "Vy-UAA-au_XP",
        "outputId": "755a4334-0b5b-43cf-adc2-1472a4e64f41"
      },
      "execution_count": null,
      "outputs": [
        {
          "output_type": "stream",
          "name": "stdout",
          "text": [
            "[[5 5 5 5]\n",
            " [5 5 5 5]\n",
            " [5 5 5 5]\n",
            " [5 5 5 5]\n",
            " [5 5 5 5]]\n"
          ]
        }
      ]
    },
    {
      "cell_type": "markdown",
      "source": [
        "Create an identity matrix"
      ],
      "metadata": {
        "id": "3Yj5yS27vJWP"
      }
    },
    {
      "cell_type": "code",
      "source": [
        "a = np.eye(4)\n",
        "print(a)"
      ],
      "metadata": {
        "colab": {
          "base_uri": "https://localhost:8080/"
        },
        "id": "WQsCHlZFvLaH",
        "outputId": "964682fa-b32d-40c6-8fda-0de379062435"
      },
      "execution_count": null,
      "outputs": [
        {
          "output_type": "stream",
          "name": "stdout",
          "text": [
            "[[1. 0. 0. 0.]\n",
            " [0. 1. 0. 0.]\n",
            " [0. 0. 1. 0.]\n",
            " [0. 0. 0. 1.]]\n"
          ]
        }
      ]
    },
    {
      "cell_type": "markdown",
      "source": [
        "Create a np array with random values"
      ],
      "metadata": {
        "id": "OKzJL4I7vmWf"
      }
    },
    {
      "cell_type": "code",
      "source": [
        "b = np.random.random((3,4))\n",
        "print(b)"
      ],
      "metadata": {
        "colab": {
          "base_uri": "https://localhost:8080/"
        },
        "id": "j5yQ94JqvpIO",
        "outputId": "8205c37c-d739-49cb-bf7e-2a7c7a6fe413"
      },
      "execution_count": null,
      "outputs": [
        {
          "output_type": "stream",
          "name": "stdout",
          "text": [
            "[[0.38872328 0.57687357 0.27533277 0.55474083]\n",
            " [0.81180457 0.43289402 0.22686414 0.25194057]\n",
            " [0.46893136 0.52515964 0.93038674 0.70966615]]\n"
          ]
        }
      ]
    },
    {
      "cell_type": "markdown",
      "source": [
        "Random integer values array within a specific range"
      ],
      "metadata": {
        "id": "dftYxjnwv7iW"
      }
    },
    {
      "cell_type": "code",
      "source": [
        "c = np.random.randint(10,100,(3,5))\n",
        "print(c)"
      ],
      "metadata": {
        "colab": {
          "base_uri": "https://localhost:8080/"
        },
        "id": "hsBAuOJ8v_DX",
        "outputId": "c54e69ab-4081-422c-8792-ca65757b2538"
      },
      "execution_count": null,
      "outputs": [
        {
          "output_type": "stream",
          "name": "stdout",
          "text": [
            "[[20 97 11 72 14]\n",
            " [56 61 67 19 78]\n",
            " [90 77 57 76 39]]\n"
          ]
        }
      ]
    },
    {
      "cell_type": "markdown",
      "source": [
        "Array of evenly spaced values -- Specifying the number of values required"
      ],
      "metadata": {
        "id": "W-FFgfEmwUeW"
      }
    },
    {
      "cell_type": "code",
      "source": [
        "d = np.linspace(10,30,5)\n",
        "print(d)"
      ],
      "metadata": {
        "colab": {
          "base_uri": "https://localhost:8080/"
        },
        "id": "LI-qRzDEwWeH",
        "outputId": "fe564e6e-0f2c-4dfe-e597-9be4fe6683eb"
      },
      "execution_count": null,
      "outputs": [
        {
          "output_type": "stream",
          "name": "stdout",
          "text": [
            "[10. 15. 20. 25. 30.]\n"
          ]
        }
      ]
    },
    {
      "cell_type": "markdown",
      "source": [
        "Array of evenly spaced values - Specifying the step"
      ],
      "metadata": {
        "id": "AacLesYvwqyW"
      }
    },
    {
      "cell_type": "code",
      "source": [
        "e = np.arange(10,30,5)\n",
        "print(e)"
      ],
      "metadata": {
        "colab": {
          "base_uri": "https://localhost:8080/"
        },
        "id": "JWLMAFbqwvPo",
        "outputId": "9db272a0-391b-4dae-cce0-ceeffb6f5c8d"
      },
      "execution_count": null,
      "outputs": [
        {
          "output_type": "stream",
          "name": "stdout",
          "text": [
            "[10 15 20 25]\n"
          ]
        }
      ]
    },
    {
      "cell_type": "markdown",
      "source": [
        "Convert a List to a numpy array"
      ],
      "metadata": {
        "id": "qtkbNGX2xSyv"
      }
    },
    {
      "cell_type": "code",
      "source": [
        "list2 = [10,20,20,20,50]\n",
        "np_array = np.asarray(list2)\n",
        "print(np_array)\n",
        "type(np_array)"
      ],
      "metadata": {
        "colab": {
          "base_uri": "https://localhost:8080/"
        },
        "id": "4D8Ht2mRxVsX",
        "outputId": "18d4f974-a0cc-4d62-d7b5-a6f6fc3c509c"
      },
      "execution_count": null,
      "outputs": [
        {
          "output_type": "stream",
          "name": "stdout",
          "text": [
            "[10 20 20 20 50]\n"
          ]
        },
        {
          "output_type": "execute_result",
          "data": {
            "text/plain": [
              "numpy.ndarray"
            ]
          },
          "metadata": {},
          "execution_count": 35
        }
      ]
    },
    {
      "cell_type": "markdown",
      "source": [
        "# Analysing a numpy array"
      ],
      "metadata": {
        "id": "PX9epuvgx0BI"
      }
    },
    {
      "cell_type": "code",
      "source": [
        "c = np.random.randint(10,90,(5,5))\n",
        "print(c)"
      ],
      "metadata": {
        "colab": {
          "base_uri": "https://localhost:8080/"
        },
        "id": "FWYmtID2x2ei",
        "outputId": "d67b2d30-6a78-46c8-81b7-744ca2b22772"
      },
      "execution_count": null,
      "outputs": [
        {
          "output_type": "stream",
          "name": "stdout",
          "text": [
            "[[62 34 15 13 51]\n",
            " [80 84 14 63 47]\n",
            " [70 69 26 23 69]\n",
            " [46 64 65 27 31]\n",
            " [84 89 31 51 43]]\n"
          ]
        }
      ]
    },
    {
      "cell_type": "markdown",
      "source": [
        "Array dimension"
      ],
      "metadata": {
        "id": "JoQANlnKyJrm"
      }
    },
    {
      "cell_type": "code",
      "source": [
        "print(c.shape)"
      ],
      "metadata": {
        "colab": {
          "base_uri": "https://localhost:8080/"
        },
        "id": "rCp6ofIYyAaa",
        "outputId": "210e7b36-2936-4b57-9116-3285d09f78c6"
      },
      "execution_count": null,
      "outputs": [
        {
          "output_type": "stream",
          "name": "stdout",
          "text": [
            "(5, 5)\n"
          ]
        }
      ]
    },
    {
      "cell_type": "markdown",
      "source": [
        "Number of dimensions"
      ],
      "metadata": {
        "id": "FQi71jAVyQ-3"
      }
    },
    {
      "cell_type": "code",
      "source": [
        "print(c.ndim)"
      ],
      "metadata": {
        "colab": {
          "base_uri": "https://localhost:8080/"
        },
        "id": "6dOIeq7byTLe",
        "outputId": "787e9632-c6af-4f0f-d752-2d0f23f9cc05"
      },
      "execution_count": null,
      "outputs": [
        {
          "output_type": "stream",
          "name": "stdout",
          "text": [
            "2\n"
          ]
        }
      ]
    },
    {
      "cell_type": "markdown",
      "source": [
        "Number of elements"
      ],
      "metadata": {
        "id": "YtLe8QZdyYh-"
      }
    },
    {
      "cell_type": "code",
      "source": [
        "print(c.size)"
      ],
      "metadata": {
        "colab": {
          "base_uri": "https://localhost:8080/"
        },
        "id": "7KuCY7ToyaGW",
        "outputId": "4497ee56-4c45-4bf2-e5db-3c0e854e2152"
      },
      "execution_count": null,
      "outputs": [
        {
          "output_type": "stream",
          "name": "stdout",
          "text": [
            "25\n"
          ]
        }
      ]
    },
    {
      "cell_type": "markdown",
      "source": [
        "Checking datatype of values in the array"
      ],
      "metadata": {
        "id": "wsCs4vwiyf6G"
      }
    },
    {
      "cell_type": "code",
      "source": [
        "print(c.dtype)"
      ],
      "metadata": {
        "colab": {
          "base_uri": "https://localhost:8080/"
        },
        "id": "iKB7UiSzyjaG",
        "outputId": "40fd8dd1-4f9a-4051-ce6a-a29f2fbb867d"
      },
      "execution_count": null,
      "outputs": [
        {
          "output_type": "stream",
          "name": "stdout",
          "text": [
            "int64\n"
          ]
        }
      ]
    },
    {
      "cell_type": "markdown",
      "source": [
        "# Mathematical Operations on a np array"
      ],
      "metadata": {
        "id": "nYOBrUN6y1tu"
      }
    },
    {
      "cell_type": "code",
      "source": [
        "list1 = [1,2,3,4,5]\n",
        "list2 = [6,7,8,9,10]\n",
        "\n",
        "print(list1 + list2)"
      ],
      "metadata": {
        "colab": {
          "base_uri": "https://localhost:8080/"
        },
        "id": "gGW4D5XPy7Q5",
        "outputId": "0c6a2d8e-824f-4b80-cec7-43269046f0d0"
      },
      "execution_count": null,
      "outputs": [
        {
          "output_type": "stream",
          "name": "stdout",
          "text": [
            "[1, 2, 3, 4, 5, 6, 7, 8, 9, 10]\n"
          ]
        }
      ]
    },
    {
      "cell_type": "code",
      "source": [
        "a = np.random.randint(0,10,(3,3))\n",
        "b = np.random.randint(10,20,(3,3))\n",
        "\n",
        "print(a)\n",
        "print(b)\n"
      ],
      "metadata": {
        "colab": {
          "base_uri": "https://localhost:8080/"
        },
        "id": "CjSY_PPf0BbX",
        "outputId": "06a854b4-2b67-40e2-f0dd-611b6f1136d9"
      },
      "execution_count": null,
      "outputs": [
        {
          "output_type": "stream",
          "name": "stdout",
          "text": [
            "[[0 9 5]\n",
            " [4 0 0]\n",
            " [0 1 9]]\n",
            "[[10 12 16]\n",
            " [15 16 11]\n",
            " [10 11 15]]\n"
          ]
        }
      ]
    },
    {
      "cell_type": "code",
      "source": [
        "print(a+b)\n",
        "print(a-b)\n",
        "print(a*b)\n",
        "print(a/b)"
      ],
      "metadata": {
        "colab": {
          "base_uri": "https://localhost:8080/"
        },
        "id": "X0u-YS_M0vU_",
        "outputId": "577cc853-2812-41c6-a957-cdaa831de3b9"
      },
      "execution_count": null,
      "outputs": [
        {
          "output_type": "stream",
          "name": "stdout",
          "text": [
            "[[10 21 21]\n",
            " [19 16 11]\n",
            " [10 12 24]]\n",
            "[[-10  -3 -11]\n",
            " [-11 -16 -11]\n",
            " [-10 -10  -6]]\n",
            "[[  0 108  80]\n",
            " [ 60   0   0]\n",
            " [  0  11 135]]\n",
            "[[0.         0.75       0.3125    ]\n",
            " [0.26666667 0.         0.        ]\n",
            " [0.         0.09090909 0.6       ]]\n"
          ]
        }
      ]
    },
    {
      "cell_type": "code",
      "source": [
        "a = np.random.randint(0,10,(3,3))\n",
        "b = np.random.randint(10,20,(3,3))\n"
      ],
      "metadata": {
        "id": "9SnD54nq05Xm"
      },
      "execution_count": null,
      "outputs": []
    },
    {
      "cell_type": "code",
      "source": [
        "print(a)\n",
        "print(b)"
      ],
      "metadata": {
        "colab": {
          "base_uri": "https://localhost:8080/"
        },
        "id": "bk7rVJMh07yt",
        "outputId": "5da6570f-df4b-407b-fd9a-ce8697e70633"
      },
      "execution_count": null,
      "outputs": [
        {
          "output_type": "stream",
          "name": "stdout",
          "text": [
            "[[8 5 5]\n",
            " [1 9 7]\n",
            " [1 5 7]]\n",
            "[[13 18 17]\n",
            " [12 11 14]\n",
            " [10 16 11]]\n"
          ]
        }
      ]
    },
    {
      "cell_type": "code",
      "source": [
        "print(np.add(a,b))\n",
        "print(np.subtract(a,b))\n",
        "print(np.multiply(a,b))\n",
        "print(np.divide(a,b))"
      ],
      "metadata": {
        "colab": {
          "base_uri": "https://localhost:8080/"
        },
        "id": "8Rb27cnK0_VA",
        "outputId": "32219cb3-9cce-493d-e911-13fd91563dfc"
      },
      "execution_count": null,
      "outputs": [
        {
          "output_type": "stream",
          "name": "stdout",
          "text": [
            "[[21 23 22]\n",
            " [13 20 21]\n",
            " [11 21 18]]\n",
            "[[ -5 -13 -12]\n",
            " [-11  -2  -7]\n",
            " [ -9 -11  -4]]\n",
            "[[104  90  85]\n",
            " [ 12  99  98]\n",
            " [ 10  80  77]]\n",
            "[[0.61538462 0.27777778 0.29411765]\n",
            " [0.08333333 0.81818182 0.5       ]\n",
            " [0.1        0.3125     0.63636364]]\n"
          ]
        }
      ]
    },
    {
      "cell_type": "markdown",
      "source": [
        "# Array Manipulation"
      ],
      "metadata": {
        "id": "g6tlZuJF1cOP"
      }
    },
    {
      "cell_type": "code",
      "source": [
        "array = np.random.randint(0,10,(2,3))\n",
        "print(array)\n",
        "print(array.shape)"
      ],
      "metadata": {
        "colab": {
          "base_uri": "https://localhost:8080/"
        },
        "id": "ded7-tH-1mVG",
        "outputId": "cfa166ce-3e2f-4e11-f5d0-10e414a7a131"
      },
      "execution_count": null,
      "outputs": [
        {
          "output_type": "stream",
          "name": "stdout",
          "text": [
            "[[0 5 5]\n",
            " [6 9 5]]\n",
            "(2, 3)\n"
          ]
        }
      ]
    },
    {
      "cell_type": "markdown",
      "source": [
        "Transpose of Matrix"
      ],
      "metadata": {
        "id": "SDTrSQEX1teW"
      }
    },
    {
      "cell_type": "code",
      "source": [
        "trans = np.transpose(array)\n",
        "print(trans)"
      ],
      "metadata": {
        "colab": {
          "base_uri": "https://localhost:8080/"
        },
        "id": "Z9o30SVe1vOt",
        "outputId": "9e4f9b0c-66a3-48e7-8150-8399c4c00033"
      },
      "execution_count": null,
      "outputs": [
        {
          "output_type": "stream",
          "name": "stdout",
          "text": [
            "[[0 6]\n",
            " [5 9]\n",
            " [5 5]]\n"
          ]
        }
      ]
    },
    {
      "cell_type": "code",
      "source": [
        "array = np.random.randint(0,10,(2,3))\n",
        "print(array)\n",
        "print(array.shape)"
      ],
      "metadata": {
        "colab": {
          "base_uri": "https://localhost:8080/"
        },
        "id": "ygRuad6-2IQP",
        "outputId": "ea18cf09-a977-4ebc-d009-f5cafc64158d"
      },
      "execution_count": null,
      "outputs": [
        {
          "output_type": "stream",
          "name": "stdout",
          "text": [
            "[[0 1 5]\n",
            " [1 5 8]]\n",
            "(2, 3)\n"
          ]
        }
      ]
    },
    {
      "cell_type": "code",
      "source": [
        "trans2 = array.T\n",
        "print(trans2)\n",
        "print(trans2.shape)"
      ],
      "metadata": {
        "colab": {
          "base_uri": "https://localhost:8080/"
        },
        "id": "jPR6-tUq2ZPv",
        "outputId": "6fefecf5-f540-4966-e5b6-355a342c6a16"
      },
      "execution_count": null,
      "outputs": [
        {
          "output_type": "stream",
          "name": "stdout",
          "text": [
            "[[0 1]\n",
            " [1 5]\n",
            " [5 8]]\n",
            "(3, 2)\n"
          ]
        }
      ]
    },
    {
      "cell_type": "markdown",
      "source": [
        "Reshaping an array"
      ],
      "metadata": {
        "id": "R9seZCyQ2wvL"
      }
    },
    {
      "cell_type": "code",
      "source": [
        "a = np.random.randint(0,10,(2,3))\n",
        "print(a)\n",
        "print(a.shape)"
      ],
      "metadata": {
        "colab": {
          "base_uri": "https://localhost:8080/"
        },
        "id": "94PnlkYm2ysI",
        "outputId": "d1c5f361-427b-449b-ed3b-c358a508f8c9"
      },
      "execution_count": null,
      "outputs": [
        {
          "output_type": "stream",
          "name": "stdout",
          "text": [
            "[[6 7 1]\n",
            " [9 5 1]]\n",
            "(2, 3)\n"
          ]
        }
      ]
    },
    {
      "cell_type": "code",
      "source": [
        "b = a.reshape(3,2)\n",
        "print(b)\n",
        "print(b.shape)"
      ],
      "metadata": {
        "colab": {
          "base_uri": "https://localhost:8080/"
        },
        "id": "qbRt7r_r27SR",
        "outputId": "08b90346-fd0a-4353-98d7-e2ead8f946f6"
      },
      "execution_count": null,
      "outputs": [
        {
          "output_type": "stream",
          "name": "stdout",
          "text": [
            "[[6 7]\n",
            " [1 9]\n",
            " [5 1]]\n",
            "(3, 2)\n"
          ]
        }
      ]
    }
  ]
}
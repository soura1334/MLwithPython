{
  "nbformat": 4,
  "nbformat_minor": 0,
  "metadata": {
    "colab": {
      "provenance": [],
      "authorship_tag": "ABX9TyMVVYqakl9e8OjzqYF9LwP7",
      "include_colab_link": true
    },
    "kernelspec": {
      "name": "python3",
      "display_name": "Python 3"
    },
    "language_info": {
      "name": "python"
    }
  },
  "cells": [
    {
      "cell_type": "markdown",
      "metadata": {
        "id": "view-in-github",
        "colab_type": "text"
      },
      "source": [
        "<a href=\"https://colab.research.google.com/github/soura1334/MLwithPython/blob/main/Vector_Operations_in_Python_2.ipynb\" target=\"_parent\"><img src=\"https://colab.research.google.com/assets/colab-badge.svg\" alt=\"Open In Colab\"/></a>"
      ]
    },
    {
      "cell_type": "code",
      "execution_count": 1,
      "metadata": {
        "id": "-MAmgUb-HqcS"
      },
      "outputs": [],
      "source": [
        "import numpy as np"
      ]
    },
    {
      "cell_type": "markdown",
      "source": [
        "Dot Product of 2 Vectors"
      ],
      "metadata": {
        "id": "fG3N-0y5IR6m"
      }
    },
    {
      "cell_type": "code",
      "source": [
        "a = np.array([2,3])\n",
        "b = np.array([4,4])\n",
        "\n",
        "a_dot_b = np.dot(a,b)"
      ],
      "metadata": {
        "id": "KplsYm76H1vI"
      },
      "execution_count": 2,
      "outputs": []
    },
    {
      "cell_type": "code",
      "source": [
        "print(a_dot_b)"
      ],
      "metadata": {
        "colab": {
          "base_uri": "https://localhost:8080/"
        },
        "id": "7d29br0nInPh",
        "outputId": "a58a1b3f-0896-4454-bf44-aa46380a8fa9"
      },
      "execution_count": 3,
      "outputs": [
        {
          "output_type": "stream",
          "name": "stdout",
          "text": [
            "20\n"
          ]
        }
      ]
    },
    {
      "cell_type": "code",
      "source": [
        "c = np.array([40, 20, 35])\n",
        "d = np.array([53, 24, 68])\n",
        "\n",
        "c_dot_d = np.dot(c,d)"
      ],
      "metadata": {
        "id": "Yxx6fbAFIobI"
      },
      "execution_count": 4,
      "outputs": []
    },
    {
      "cell_type": "code",
      "source": [
        "print(c_dot_d)"
      ],
      "metadata": {
        "colab": {
          "base_uri": "https://localhost:8080/"
        },
        "id": "3uUGElbiJA5c",
        "outputId": "e2f32254-e391-4f86-d24e-a0e7e8cc38b4"
      },
      "execution_count": 5,
      "outputs": [
        {
          "output_type": "stream",
          "name": "stdout",
          "text": [
            "4980\n"
          ]
        }
      ]
    },
    {
      "cell_type": "markdown",
      "source": [
        "Cross Product of 2 Vectors"
      ],
      "metadata": {
        "id": "klu3NkCuJdre"
      }
    },
    {
      "cell_type": "code",
      "source": [
        "a = np.array([2,3])\n",
        "b = np.array([4,4])\n",
        "\n",
        "a_cross_b = np.cross(a,b)"
      ],
      "metadata": {
        "colab": {
          "base_uri": "https://localhost:8080/"
        },
        "id": "Ei0nm1MzJCXw",
        "outputId": "f0af8c6a-a041-4c2d-b7a1-c08f6abda1bc"
      },
      "execution_count": 10,
      "outputs": [
        {
          "output_type": "stream",
          "name": "stderr",
          "text": [
            "/tmp/ipython-input-1178544337.py:4: DeprecationWarning: Arrays of 2-dimensional vectors are deprecated. Use arrays of 3-dimensional vectors instead. (deprecated in NumPy 2.0)\n",
            "  a_cross_b = np.cross(a,b)\n"
          ]
        }
      ]
    },
    {
      "cell_type": "code",
      "source": [
        "print(a_cross_b)"
      ],
      "metadata": {
        "colab": {
          "base_uri": "https://localhost:8080/"
        },
        "id": "VvIaAYbwJnpd",
        "outputId": "38af75cf-0b01-49c3-92ef-eba92d04d634"
      },
      "execution_count": 11,
      "outputs": [
        {
          "output_type": "stream",
          "name": "stdout",
          "text": [
            "-4\n"
          ]
        }
      ]
    },
    {
      "cell_type": "code",
      "source": [
        "c = np.array([5,10,20])\n",
        "d = np.array([18,32,50])\n",
        "\n",
        "c_cross_d = np.cross(c,d)"
      ],
      "metadata": {
        "id": "oCeptiN3JrzA"
      },
      "execution_count": 12,
      "outputs": []
    },
    {
      "cell_type": "code",
      "source": [
        "print(c_cross_d)"
      ],
      "metadata": {
        "colab": {
          "base_uri": "https://localhost:8080/"
        },
        "id": "U4s-VKCQKn0q",
        "outputId": "207e2b1b-d6d1-4238-b226-dce0b44b9417"
      },
      "execution_count": 13,
      "outputs": [
        {
          "output_type": "stream",
          "name": "stdout",
          "text": [
            "[-140  110  -20]\n"
          ]
        }
      ]
    },
    {
      "cell_type": "markdown",
      "source": [
        "Projection of \"a\" vector on \"v\" vector"
      ],
      "metadata": {
        "id": "fiQCg8n_K_RG"
      }
    },
    {
      "cell_type": "code",
      "source": [
        "a = np.array([2,5])\n",
        "\n",
        "v = np.array([8, -6])\n",
        "\n",
        "magnitude_of_v = np.sqrt(sum(v**2))\n",
        "\n",
        "proj_of_a_on_v = (np.dot(a,v)/magnitude_of_v**2)*v"
      ],
      "metadata": {
        "id": "cO6HT7cDKpj1"
      },
      "execution_count": 14,
      "outputs": []
    },
    {
      "cell_type": "code",
      "source": [
        "print(proj_of_a_on_v)"
      ],
      "metadata": {
        "colab": {
          "base_uri": "https://localhost:8080/"
        },
        "id": "0_WQKUE5LwM8",
        "outputId": "eea85531-0720-41fe-d079-206fb9976965"
      },
      "execution_count": 15,
      "outputs": [
        {
          "output_type": "stream",
          "name": "stdout",
          "text": [
            "[-1.12  0.84]\n"
          ]
        }
      ]
    },
    {
      "cell_type": "code",
      "source": [
        "a = np.array([23,45,62])\n",
        "\n",
        "v = np.array([45,82, 67])\n",
        "\n",
        "magnitude_of_v = np.sqrt(sum(v**2))\n",
        "\n",
        "proj_of_a_on_v = (np.dot(a,v)/magnitude_of_v**2)*v"
      ],
      "metadata": {
        "id": "FNgnLkZXLxwc"
      },
      "execution_count": 16,
      "outputs": []
    },
    {
      "cell_type": "code",
      "source": [
        "print(proj_of_a_on_v)"
      ],
      "metadata": {
        "colab": {
          "base_uri": "https://localhost:8080/"
        },
        "id": "CghwBKp7MJ8q",
        "outputId": "ab50fbd4-3144-4861-8c65-3b3b95202a4c"
      },
      "execution_count": 17,
      "outputs": [
        {
          "output_type": "stream",
          "name": "stdout",
          "text": [
            "[30.18242937 54.99909352 44.93828373]\n"
          ]
        }
      ]
    }
  ]
}